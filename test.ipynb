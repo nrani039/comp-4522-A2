{
 "cells": [
  {
   "cell_type": "code",
   "execution_count": 33,
   "id": "239315fe-acdd-43ed-abd5-89aadb0280da",
   "metadata": {},
   "outputs": [
    {
     "name": "stdout",
     "output_type": "stream",
     "text": [
      "('alicia',)\n"
     ]
    }
   ],
   "source": [
    "import pandas as pd\n",
    "import sqlite3\n",
    "\n",
    "import os\n",
    "\n",
    "csvFiles = ['Relations\\\\department.csv', 'Relations\\\\employee.csv', 'Relations\\\\female.csv', 'Relations\\\\male.csv', \n",
    "            'Relations\\\\project.csv', 'Relations\\\\salary.csv', 'Relations\\\\supervise.csv', 'Relations\\\\workson.csv']\n",
    "\n",
    "conn = sqlite3.connect(\"assignment2_database.db\")\n",
    "cursor = conn.cursor()\n",
    "\n",
    "\n",
    "for csvFile in csvFiles:\n",
    "    df = pd.read_csv(csvFile)\n",
    "    # Extract just the base file name without the path and extension\n",
    "    table_name = csvFile.split('\\\\')[-1].replace('.csv', '')\n",
    "    df.to_sql(table_name, conn, if_exists='replace', index=False)\n",
    "\n",
    "query = \"\"\"\n",
    "SELECT EMPLOYEE_NAME\n",
    "FROM employee AS e\n",
    "JOIN female AS f ON e.EMPLOYEE_NAME = f.NAME\n",
    "JOIN workson AS w ON e.EMPLOYEE_NAME = w.NAME\n",
    "JOIN supervise AS s ON e.EMPLOYEE_NAME = s.SUBORDINATE\n",
    "WHERE w.PROJECT = 'computerization'\n",
    "AND w.EFFORT = 10\n",
    "AND s.SUPERVISOR = 'jennifer';\n",
    "\"\"\"\n",
    "\n",
    "cursor.execute(query)\n",
    "results = cursor.fetchall()\n",
    "for result in results:\n",
    "    print(result)\n",
    "\n",
    "conn.close()\n",
    "\n",
    "\n",
    "\n"
   ]
  },
  {
   "cell_type": "code",
   "execution_count": 7,
   "id": "f9b9dc2d-7269-4f6e-8f3e-f9f2bcc50da2",
   "metadata": {},
   "outputs": [
    {
     "name": "stdout",
     "output_type": "stream",
     "text": [
      "Requirement already satisfied: pandas in c:\\users\\shamil\\appdata\\local\\programs\\python\\python312\\lib\\site-packages (2.2.1)\n",
      "Requirement already satisfied: numpy<2,>=1.26.0 in c:\\users\\shamil\\appdata\\local\\programs\\python\\python312\\lib\\site-packages (from pandas) (1.26.4)\n",
      "Requirement already satisfied: python-dateutil>=2.8.2 in c:\\users\\shamil\\appdata\\local\\programs\\python\\python312\\lib\\site-packages (from pandas) (2.9.0.post0)\n",
      "Requirement already satisfied: pytz>=2020.1 in c:\\users\\shamil\\appdata\\local\\programs\\python\\python312\\lib\\site-packages (from pandas) (2024.1)\n",
      "Requirement already satisfied: tzdata>=2022.7 in c:\\users\\shamil\\appdata\\local\\programs\\python\\python312\\lib\\site-packages (from pandas) (2024.1)\n",
      "Requirement already satisfied: six>=1.5 in c:\\users\\shamil\\appdata\\local\\programs\\python\\python312\\lib\\site-packages (from python-dateutil>=2.8.2->pandas) (1.16.0)\n"
     ]
    }
   ],
   "source": [
    "!pip install pandas"
   ]
  },
  {
   "cell_type": "code",
   "execution_count": 17,
   "id": "39d4f184-9594-4161-8417-61086c52f881",
   "metadata": {},
   "outputs": [
    {
     "data": {
      "text/plain": [
       "'C:\\\\Users\\\\Shamil\\\\Documents\\\\COMP 4522\\\\comp-4522-A2-main'"
      ]
     },
     "execution_count": 17,
     "metadata": {},
     "output_type": "execute_result"
    }
   ],
   "source": [
    "pwd\n"
   ]
  },
  {
   "cell_type": "code",
   "execution_count": null,
   "id": "ec98e17f-0ed3-4634-a216-eb6d83f5b365",
   "metadata": {},
   "outputs": [],
   "source": []
  }
 ],
 "metadata": {
  "kernelspec": {
   "display_name": "Python 3 (ipykernel)",
   "language": "python",
   "name": "python3"
  },
  "language_info": {
   "codemirror_mode": {
    "name": "ipython",
    "version": 3
   },
   "file_extension": ".py",
   "mimetype": "text/x-python",
   "name": "python",
   "nbconvert_exporter": "python",
   "pygments_lexer": "ipython3",
   "version": "3.12.2"
  }
 },
 "nbformat": 4,
 "nbformat_minor": 5
}
