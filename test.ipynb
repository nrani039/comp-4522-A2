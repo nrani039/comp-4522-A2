{
 "cells": [
  {
   "cell_type": "code",
   "execution_count": 8,
   "id": "ec98e17f-0ed3-4634-a216-eb6d83f5b365",
   "metadata": {},
   "outputs": [
    {
     "name": "stdout",
     "output_type": "stream",
     "text": [
      "  EMPLOYEE_NAME\n",
      "0        alicia\n"
     ]
    }
   ],
   "source": [
    "import pandas as pd\n",
    "import sqlite3\n",
    "\n",
    "#Load all of the CSV files into Pandas DataFrames\n",
    "employee = pd.read_csv(\"Relations\\\\employee.csv\")\n",
    "female = pd.read_csv(\"Relations\\\\female.csv\")\n",
    "project = pd.read_csv(\"Relations\\\\project.csv\")\n",
    "supervise = pd.read_csv(\"Relations\\\\supervise.csv\")\n",
    "workson = pd.read_csv(\"Relations\\\\workson.csv\")\n",
    "\n",
    "conn = sqlite3.connect(\"assignment2_database.db\")\n",
    "cursor = conn.cursor()\n",
    "\n",
    "#Write DataFrames to Sqlite3, replace the tables if they already exist to avoid errors\n",
    "employee.to_sql('employee', conn, if_exists='replace', index=False)\n",
    "female.to_sql('female', conn, if_exists='replace', index=False)\n",
    "project.to_sql('project', conn, if_exists='replace', index=False)\n",
    "supervise.to_sql('supervise', conn, if_exists='replace', index=False)\n",
    "workson.to_sql('workson', conn, if_exists='replace', index=False)\n",
    "\n",
    "#question 1 sql code.\n",
    "queryOne = \"\"\"\n",
    "SELECT e.EMPLOYEE_NAME\n",
    "FROM employee AS e\n",
    "INNER JOIN female AS f ON e.EMPLOYEE_NAME = f.NAME\n",
    "INNER JOIN workson AS w ON e.EMPLOYEE_NAME = w.NAME\n",
    "INNER JOIN supervise AS s ON e.EMPLOYEE_NAME = s.SUBORDINATE\n",
    "WHERE w.PROJECT = 'computerization'\n",
    "AND w.EFFORT = 10\n",
    "AND s.SUPERVISOR = 'jennifer';\n",
    "\"\"\"\n",
    "\n",
    "questionOne = pd.read_sql_query(queryOne, conn)\n",
    "print(questionOne)\n",
    "\n",
    "conn.close()\n"
   ]
  },
  {
   "cell_type": "code",
   "execution_count": 15,
   "id": "56e9d78c-b215-459f-b1e0-b10c4d0da142",
   "metadata": {},
   "outputs": [
    {
     "name": "stdout",
     "output_type": "stream",
     "text": [
      "  EMPLOYEE_NAME\n",
      "0      franklin\n"
     ]
    }
   ],
   "source": [
    "import pandas as pd\n",
    "import sqlite3\n",
    "\n",
    "#Load all of the CSV files into Pandas DataFrames\n",
    "department = pd.read_csv(\"Relations\\\\department.csv\")\n",
    "employee = pd.read_csv(\"Relations\\\\employee.csv\")\n",
    "salary = pd.read_csv(\"Relations\\\\salary.csv\")\n",
    "\n",
    "conn = sqlite3.connect(\"assignment2_database.db\")\n",
    "cursor = conn.cursor()\n",
    "\n",
    "#Write DataFrames to Sqlite3, replace the tables if they already exist to avoid errors\n",
    "department.to_sql('department', conn, if_exists='replace', index=False)\n",
    "employee.to_sql('employee', conn, if_exists='replace', index=False)\n",
    "salary.to_sql('salary', conn, if_exists='replace', index=False)\n",
    "\n",
    "#question 2 sql code.\n",
    "queryTwo = \"\"\"\n",
    "SELECT e.EMPLOYEE_NAME FROM employee as e\n",
    "INNER JOIN salary as s on e.EMPLOYEE_NAME = s.EMPLOYEE_NAME\n",
    "INNER JOIN department as d on e.EMPLOYEE_NAME = d.EMPLOYEE_NAME\n",
    "WHERE d.DEPARTMENT = 'research'\n",
    "AND s.SALARY > 40000;\n",
    "\"\"\"\n",
    "\n",
    "questionTwo = pd.read_sql_query(queryTwo, conn)\n",
    "print(questionTwo)\n",
    "\n",
    "conn.close()"
   ]
  },
  {
   "cell_type": "code",
   "execution_count": 16,
   "id": "d709c26d-882f-4f33-abd8-ceb37495dd92",
   "metadata": {},
   "outputs": [
    {
     "name": "stdout",
     "output_type": "stream",
     "text": [
      "  EMPLOYEE_NAME\n",
      "0      franklin\n"
     ]
    }
   ],
   "source": [
    "import pandas as pd\n",
    "import sqlite3\n",
    "\n",
    "#Load all of the CSV files into Pandas DataFrames\n",
    "department = pd.read_csv(\"Relations\\\\department.csv\")\n",
    "employee = pd.read_csv(\"Relations\\\\employee.csv\")\n",
    "salary = pd.read_csv(\"Relations\\\\salary.csv\")\n",
    "\n",
    "conn = sqlite3.connect(\"assignment2_database.db\")\n",
    "cursor = conn.cursor()\n",
    "\n",
    "#Write DataFrames to Sqlite3, replace the tables if they already exist to avoid errors\n",
    "department.to_sql('department', conn, if_exists='replace', index=False)\n",
    "employee.to_sql('employee', conn, if_exists='replace', index=False)\n",
    "salary.to_sql('salary', conn, if_exists='replace', index=False)\n",
    "\n",
    "#question 2 sql code.\n",
    "queryTwo = \"\"\"\n",
    "SELECT e.EMPLOYEE_NAME FROM employee as e\n",
    "INNER JOIN salary as s on e.EMPLOYEE_NAME = s.EMPLOYEE_NAME\n",
    "INNER JOIN department as d on e.EMPLOYEE_NAME = d.EMPLOYEE_NAME\n",
    "WHERE d.DEPARTMENT = 'research'\n",
    "AND s.SALARY > 40000;\n",
    "\"\"\"\n",
    "\n",
    "questionTwo = pd.read_sql_query(queryTwo, conn)\n",
    "print(questionTwo)\n",
    "\n",
    "conn.close()"
   ]
  },
  {
   "cell_type": "code",
   "execution_count": 22,
   "id": "65500ec7-c6b4-4431-9e1c-bb9c572badb2",
   "metadata": {},
   "outputs": [
    {
     "name": "stdout",
     "output_type": "stream",
     "text": [
      "  EMPLOYEE_NAME\n",
      "0          john\n",
      "1         joyce\n"
     ]
    }
   ],
   "source": [
    "import pandas as pd\n",
    "import sqlite3\n",
    "\n",
    "#Load all of the CSV files into Pandas DataFrames\n",
    "employee = pd.read_csv(\"Relations\\\\employee.csv\")\n",
    "workson = pd.read_csv(\"Relations\\\\workson.csv\")\n",
    "\n",
    "conn = sqlite3.connect(\"assignment2_database.db\")\n",
    "cursor = conn.cursor()\n",
    "\n",
    "#Write DataFrames to Sqlite3, replace the tables if they already exist to avoid errors\n",
    "employee.to_sql('employee', conn, if_exists='replace', index=False)\n",
    "workson.to_sql('workson', conn, if_exists='replace', index=False)\n",
    "\n",
    "#question 4 sql code.\n",
    "queryFour = \"\"\"\n",
    "SELECT e.EMPLOYEE_NAME FROM employee as e\n",
    "INNER JOIN workson as w on e.EMPLOYEE_NAME = w.NAME\n",
    "WHERE w.PROJECT = 'productx'\n",
    "AND w.EFFORT >= 20;\n",
    "\"\"\"\n",
    "\n",
    "questionFour = pd.read_sql_query(queryFour, conn)\n",
    "print(questionFour)\n",
    "\n",
    "conn.close()"
   ]
  },
  {
   "cell_type": "code",
   "execution_count": null,
   "id": "e68e007d-4998-4e49-9706-82f1104ac53d",
   "metadata": {},
   "outputs": [],
   "source": []
  },
  {
   "cell_type": "code",
   "execution_count": null,
   "id": "ccc49bc7-ba09-48c4-bd28-2e2810d01ac8",
   "metadata": {},
   "outputs": [],
   "source": []
  }
 ],
 "metadata": {
  "kernelspec": {
   "display_name": "Python 3 (ipykernel)",
   "language": "python",
   "name": "python3"
  },
  "language_info": {
   "codemirror_mode": {
    "name": "ipython",
    "version": 3
   },
   "file_extension": ".py",
   "mimetype": "text/x-python",
   "name": "python",
   "nbconvert_exporter": "python",
   "pygments_lexer": "ipython3",
   "version": "3.12.2"
  }
 },
 "nbformat": 4,
 "nbformat_minor": 5
}
